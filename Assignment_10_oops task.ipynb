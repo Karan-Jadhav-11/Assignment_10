{
 "cells": [
  {
   "cell_type": "markdown",
   "id": "30607068-58b2-486a-a086-31e53dc34dcb",
   "metadata": {},
   "source": [
    "# Assignment 10: OOPs Task \n"
   ]
  },
  {
   "cell_type": "code",
   "execution_count": null,
   "id": "0315b78d-ac5c-456a-862d-bfba3c12633a",
   "metadata": {},
   "outputs": [],
   "source": []
  },
  {
   "cell_type": "markdown",
   "id": "cff51623-222d-4c0b-bba3-08af45801a56",
   "metadata": {},
   "source": [
    "### Q1, Create a vehicle class with an init method having instance variables as name_of_vehicle, max_speed and average_of_vehicle."
   ]
  },
  {
   "cell_type": "code",
   "execution_count": 30,
   "id": "030f5f22-f45b-4b91-b4f7-1db2fc635f4f",
   "metadata": {},
   "outputs": [],
   "source": [
    "class vehicle () :\n",
    "    def __init__(self , name_of_vehicle, max_speed , average_of_vehicle):\n",
    "        self.name_of_vehicle = name_of_vehicle \n",
    "        self.max_speed = max_speed\n",
    "        self.average_of_vehicle = average_of_vehicle\n",
    "       # print( self.name_of_vehicle, self.max_speed ,self.average_of_vehicle)\n",
    "    def vehicle_detail(self):\n",
    "        return self.name_of_vehicle , self.max_speed , self.average_of_vehicle"
   ]
  },
  {
   "cell_type": "code",
   "execution_count": 31,
   "id": "71573924-d6b6-4d03-bd1b-dcb11fca93a3",
   "metadata": {},
   "outputs": [],
   "source": [
    "v = vehicle(\"suzuki\" , 120 , 19)"
   ]
  },
  {
   "cell_type": "code",
   "execution_count": 32,
   "id": "e7482f78-6423-4c3a-abf8-12f0a0903b74",
   "metadata": {},
   "outputs": [
    {
     "data": {
      "text/plain": [
       "('suzuki', 120, 19)"
      ]
     },
     "execution_count": 32,
     "metadata": {},
     "output_type": "execute_result"
    }
   ],
   "source": [
    "v.vehicle_detail()"
   ]
  },
  {
   "cell_type": "code",
   "execution_count": null,
   "id": "41caa33c-0640-4a3d-b5e8-fe2b4ae47b49",
   "metadata": {},
   "outputs": [],
   "source": []
  },
  {
   "cell_type": "markdown",
   "id": "042d4ee3-c53b-4a43-ae26-aad1cf104232",
   "metadata": {},
   "source": [
    "### Q2. Create a child class car from the vehicle class created in Que 1, which will inherit the vehicle class. Create a method named seating_capacity which takes capacity as an argument and returns the name of the vehicle and its seating capacity."
   ]
  },
  {
   "cell_type": "code",
   "execution_count": 16,
   "id": "4d2b0850-2b69-48e2-bf6a-689c64b8c4f6",
   "metadata": {},
   "outputs": [],
   "source": [
    "class Vehicle:\n",
    "    def __init__(self, name_of_vehicle, max_speed, average_of_vehicle):\n",
    "        self.name_of_vehicle = name_of_vehicle\n",
    "        self.max_speed = max_speed\n",
    "        self.average_of_vehicle = average_of_vehicle\n",
    "\n",
    "class Car(Vehicle):\n",
    "    def __init__(self, name_of_vehicle, max_speed, average_of_vehicle):\n",
    "        super().__init__(name_of_vehicle, max_speed, average_of_vehicle)\n",
    "\n",
    "    def seating_capacity(self, capacity):\n",
    "        return f\"The {self.name_of_vehicle} has a seating capacity of {capacity}.\"\n",
    "\n",
    "\n"
   ]
  },
  {
   "cell_type": "code",
   "execution_count": 17,
   "id": "f7ab7965-937d-4003-9e98-b115bbd4cc0b",
   "metadata": {},
   "outputs": [
    {
     "name": "stdout",
     "output_type": "stream",
     "text": [
      "The Toyota Camry has a seating capacity of 8.\n"
     ]
    }
   ],
   "source": [
    "# Example usage:\n",
    "c = Car(\"Toyota Camry\", 240, 25)\n",
    "print(c.seating_capacity(8))"
   ]
  },
  {
   "cell_type": "code",
   "execution_count": null,
   "id": "7ad5db6e-88f4-4e7f-a72a-7180f3ef2b29",
   "metadata": {},
   "outputs": [],
   "source": []
  },
  {
   "cell_type": "markdown",
   "id": "6db7455d-3c4b-4aa0-8a04-aa7a7f9eae13",
   "metadata": {},
   "source": [
    "### Q3. What is multiple inheritance? Write a python code to demonstrate multiple inheritance."
   ]
  },
  {
   "cell_type": "code",
   "execution_count": 18,
   "id": "31e65e35-d28e-4feb-9368-75db653a8e70",
   "metadata": {},
   "outputs": [],
   "source": [
    "# multiple inheritance is the one of type of inheritence. In multiple Inheritence the child class inherite the properties and method of multiple parent class \n",
    "# syntax\n",
    "# child_class_name(class_parent1 ,class_parent2,....)\n",
    "\n",
    "\n",
    "class parent1:\n",
    "    def parent1(self):\n",
    "        return \"parent1 was called !\"\n",
    "\n",
    "class parent2:\n",
    "    def parent2(self):\n",
    "        return \"parent2 was called !\"\n",
    "    \n",
    "class child(parent1 , parent2):\n",
    "    def child_method(self):\n",
    "        return \"child calling parent1 and parent\""
   ]
  },
  {
   "cell_type": "code",
   "execution_count": 27,
   "id": "3ef0f4f1-bfd0-4e38-8470-eb9547e68ee7",
   "metadata": {},
   "outputs": [
    {
     "data": {
      "text/plain": [
       "'child calling parent1 and parent'"
      ]
     },
     "execution_count": 27,
     "metadata": {},
     "output_type": "execute_result"
    }
   ],
   "source": [
    "child_obj = child()\n",
    "child_obj.child_method()\n"
   ]
  },
  {
   "cell_type": "code",
   "execution_count": 28,
   "id": "b97d58d8-2048-4bbb-a7bc-9f259963b82f",
   "metadata": {},
   "outputs": [
    {
     "data": {
      "text/plain": [
       "'parent1 was called !'"
      ]
     },
     "execution_count": 28,
     "metadata": {},
     "output_type": "execute_result"
    }
   ],
   "source": [
    "child_obj.parent1()\n"
   ]
  },
  {
   "cell_type": "code",
   "execution_count": 29,
   "id": "7b0e9ec7-300f-46ba-90e7-8f1b075814bd",
   "metadata": {},
   "outputs": [
    {
     "data": {
      "text/plain": [
       "'parent2 was called !'"
      ]
     },
     "execution_count": 29,
     "metadata": {},
     "output_type": "execute_result"
    }
   ],
   "source": [
    "child_obj.parent2()"
   ]
  },
  {
   "cell_type": "code",
   "execution_count": null,
   "id": "49c8b9be-f9bc-4bd2-a634-c1c60f3dc72e",
   "metadata": {},
   "outputs": [],
   "source": []
  },
  {
   "cell_type": "markdown",
   "id": "1435ae34-943f-4a4f-b38d-8c70aba29fa2",
   "metadata": {},
   "source": [
    "### Q4. What are getter and setter in python? Create a class and create a getter and a setter method in this class."
   ]
  },
  {
   "cell_type": "markdown",
   "id": "a59de009-7d64-43e4-8cb4-6b3afead5d20",
   "metadata": {},
   "source": [
    "#### ANS: In Python, getters and setters are methods that control access to an object’s attributes. A getter is a method that gets the value of a specific attribute. A setter is a method that sets the value of a specific attribute. Python provides a built-in @property decorator that allows us to define getters, and @<attribute>.setter decorator for setters."
   ]
  },
  {
   "cell_type": "code",
   "execution_count": 1,
   "id": "3502e675-a9ce-487d-97ca-173a53b356bf",
   "metadata": {},
   "outputs": [
    {
     "name": "stdout",
     "output_type": "stream",
     "text": [
      "kj\n"
     ]
    }
   ],
   "source": [
    "class Employee:\n",
    "    def __init__(self, name=None):\n",
    "        self._name = name\n",
    "\n",
    "    @property\n",
    "    def name(self):\n",
    "        return self._name\n",
    "\n",
    "    @name.setter\n",
    "    def name(self, value):\n",
    "        if not isinstance(value, str):\n",
    "            raise ValueError(\"Name must be a string.\")\n",
    "        self._name = value\n",
    "\n",
    "# Example usage:\n",
    "e = Employee()\n",
    "e.name = \"kj\"\n",
    "print(e.name)\n"
   ]
  },
  {
   "cell_type": "markdown",
   "id": "5f073a44-a760-4ecd-9c13-476849c82ab7",
   "metadata": {},
   "source": [
    "\n",
    "### Q5.What is method overriding in python? Write a python code to demonstrate method overriding."
   ]
  },
  {
   "cell_type": "markdown",
   "id": "9f7927a9-3f8b-44c9-99c6-f24b4d2d52ca",
   "metadata": {},
   "source": [
    "#### ANS: Method overriding is a feature of Object-oriented programming (OOP) that allows a subclass to provide a different implementation of a method that is already defined in its superclass. It is used to change the behavior of existing methods to suit the needs of the subclass."
   ]
  },
  {
   "cell_type": "code",
   "execution_count": 6,
   "id": "f2639285-5982-44a7-98ad-d6f338ed2a5e",
   "metadata": {},
   "outputs": [
    {
     "name": "stdout",
     "output_type": "stream",
     "text": [
      "This animal makes a sound\n",
      "The dog barks\n",
      "the Cat meows\n",
      "None\n"
     ]
    }
   ],
   "source": [
    "class Animal:\n",
    "    def speak(self):\n",
    "        return \"This animal makes a sound\"\n",
    "\n",
    "class Dog(Animal):\n",
    "    def speak(self):\n",
    "        return \"The dog barks\"\n",
    "    \n",
    "class Cat(Animal):\n",
    "    def speak(self):\n",
    "        print(\"the Cat meows\")\n",
    "\n",
    "a = Animal()\n",
    "print(a.speak()) \n",
    "\n",
    "d = Dog()\n",
    "print(d.speak())  \n",
    "\n",
    "c = Cat()\n",
    "print(c.speak())\n",
    "\n"
   ]
  },
  {
   "cell_type": "markdown",
   "id": "e0dd8a5c-9320-4842-ae82-c83efd724ee3",
   "metadata": {},
   "source": [
    "#### In this example, Animal is the superclass with a method speak(). Dog and Cat are subclass that overrides the speak() method. When speak() is called on an instance of Dog or Cat , the overridden method in Dog is executed instead of the one in Animal. This is method overriding in Python."
   ]
  },
  {
   "cell_type": "code",
   "execution_count": null,
   "id": "96af34be-fde1-434f-a0db-6a01d9845ae4",
   "metadata": {},
   "outputs": [],
   "source": []
  }
 ],
 "metadata": {
  "kernelspec": {
   "display_name": "Python 3 (ipykernel)",
   "language": "python",
   "name": "python3"
  },
  "language_info": {
   "codemirror_mode": {
    "name": "ipython",
    "version": 3
   },
   "file_extension": ".py",
   "mimetype": "text/x-python",
   "name": "python",
   "nbconvert_exporter": "python",
   "pygments_lexer": "ipython3",
   "version": "3.10.8"
  }
 },
 "nbformat": 4,
 "nbformat_minor": 5
}
